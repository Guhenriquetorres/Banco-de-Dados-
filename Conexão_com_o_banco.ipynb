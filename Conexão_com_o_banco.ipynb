{
  "cells": [
    {
      "cell_type": "markdown",
      "metadata": {
        "id": "view-in-github",
        "colab_type": "text"
      },
      "source": [
        "<a href=\"https://colab.research.google.com/github/Guhenriquetorres/An-lise_Dados_Enem_2021/blob/main/Conex%C3%A3o_com_o_banco.ipynb\" target=\"_parent\"><img src=\"https://colab.research.google.com/assets/colab-badge.svg\" alt=\"Open In Colab\"/></a>"
      ]
    },
    {
      "cell_type": "code",
      "execution_count": null,
      "metadata": {
        "colab": {
          "background_save": true,
          "base_uri": "https://localhost:8080/"
        },
        "id": "HRGfUF58o6It",
        "outputId": "af83101b-5270-4f58-880e-135baaeade5f"
      },
      "outputs": [
        {
          "name": "stdout",
          "output_type": "stream",
          "text": [
            "Looking in indexes: https://pypi.org/simple, https://us-python.pkg.dev/colab-wheels/public/simple/\n",
            "Requirement already satisfied: psycopg2 in /usr/local/lib/python3.10/dist-packages (2.9.6)\n",
            "Looking in indexes: https://pypi.org/simple, https://us-python.pkg.dev/colab-wheels/public/simple/\n",
            "Requirement already satisfied: pandas in /usr/local/lib/python3.10/dist-packages (1.5.3)\n",
            "Requirement already satisfied: python-dateutil>=2.8.1 in /usr/local/lib/python3.10/dist-packages (from pandas) (2.8.2)\n",
            "Requirement already satisfied: pytz>=2020.1 in /usr/local/lib/python3.10/dist-packages (from pandas) (2022.7.1)\n",
            "Requirement already satisfied: numpy>=1.21.0 in /usr/local/lib/python3.10/dist-packages (from pandas) (1.22.4)\n",
            "Requirement already satisfied: six>=1.5 in /usr/local/lib/python3.10/dist-packages (from python-dateutil>=2.8.1->pandas) (1.16.0)\n"
          ]
        }
      ],
      "source": [
        "!pip install psycopg2\n",
        "!pip install pandas\n",
        "import psycopg2 as db\n",
        "import csv\n",
        "import pandas as pd"
      ]
    },
    {
      "cell_type": "code",
      "execution_count": null,
      "metadata": {
        "colab": {
          "background_save": true,
          "base_uri": "https://localhost:8080/"
        },
        "id": "nITiCkbP3Qhc",
        "outputId": "1b5bafe9-dc68-4661-f99b-2e3e4a273049"
      },
      "outputs": [
        {
          "ename": "OperationalError",
          "evalue": "ignored",
          "output_type": "error",
          "traceback": [
            "\u001b[0;31m---------------------------------------------------------------------------\u001b[0m",
            "\u001b[0;31mOperationalError\u001b[0m                          Traceback (most recent call last)",
            "\u001b[0;32m<ipython-input-2-1ba74eec084c>\u001b[0m in \u001b[0;36m<cell line: 1>\u001b[0;34m()\u001b[0m\n\u001b[0;32m----> 1\u001b[0;31m conn = db.connect(\n\u001b[0m\u001b[1;32m      2\u001b[0m     \u001b[0mhost\u001b[0m\u001b[0;34m=\u001b[0m\u001b[0;34m\"18.224.151.110\"\u001b[0m\u001b[0;34m,\u001b[0m\u001b[0;34m\u001b[0m\u001b[0;34m\u001b[0m\u001b[0m\n\u001b[1;32m      3\u001b[0m     \u001b[0mdatabase\u001b[0m\u001b[0;34m=\u001b[0m\u001b[0;34m\"HMDC493_2023_1_Enem\"\u001b[0m\u001b[0;34m,\u001b[0m\u001b[0;34m\u001b[0m\u001b[0;34m\u001b[0m\u001b[0m\n\u001b[1;32m      4\u001b[0m     \u001b[0muser\u001b[0m\u001b[0;34m=\u001b[0m\u001b[0;34m\"2122120012_Gustavo\"\u001b[0m\u001b[0;34m,\u001b[0m\u001b[0;34m\u001b[0m\u001b[0;34m\u001b[0m\u001b[0m\n\u001b[1;32m      5\u001b[0m     \u001b[0mpassword\u001b[0m\u001b[0;34m=\u001b[0m\u001b[0;34m\"2122120012_Gustavo\"\u001b[0m\u001b[0;34m\u001b[0m\u001b[0;34m\u001b[0m\u001b[0m\n",
            "\u001b[0;32m/usr/local/lib/python3.10/dist-packages/psycopg2/__init__.py\u001b[0m in \u001b[0;36mconnect\u001b[0;34m(dsn, connection_factory, cursor_factory, **kwargs)\u001b[0m\n\u001b[1;32m    120\u001b[0m \u001b[0;34m\u001b[0m\u001b[0m\n\u001b[1;32m    121\u001b[0m     \u001b[0mdsn\u001b[0m \u001b[0;34m=\u001b[0m \u001b[0m_ext\u001b[0m\u001b[0;34m.\u001b[0m\u001b[0mmake_dsn\u001b[0m\u001b[0;34m(\u001b[0m\u001b[0mdsn\u001b[0m\u001b[0;34m,\u001b[0m \u001b[0;34m**\u001b[0m\u001b[0mkwargs\u001b[0m\u001b[0;34m)\u001b[0m\u001b[0;34m\u001b[0m\u001b[0;34m\u001b[0m\u001b[0m\n\u001b[0;32m--> 122\u001b[0;31m     \u001b[0mconn\u001b[0m \u001b[0;34m=\u001b[0m \u001b[0m_connect\u001b[0m\u001b[0;34m(\u001b[0m\u001b[0mdsn\u001b[0m\u001b[0;34m,\u001b[0m \u001b[0mconnection_factory\u001b[0m\u001b[0;34m=\u001b[0m\u001b[0mconnection_factory\u001b[0m\u001b[0;34m,\u001b[0m \u001b[0;34m**\u001b[0m\u001b[0mkwasync\u001b[0m\u001b[0;34m)\u001b[0m\u001b[0;34m\u001b[0m\u001b[0;34m\u001b[0m\u001b[0m\n\u001b[0m\u001b[1;32m    123\u001b[0m     \u001b[0;32mif\u001b[0m \u001b[0mcursor_factory\u001b[0m \u001b[0;32mis\u001b[0m \u001b[0;32mnot\u001b[0m \u001b[0;32mNone\u001b[0m\u001b[0;34m:\u001b[0m\u001b[0;34m\u001b[0m\u001b[0;34m\u001b[0m\u001b[0m\n\u001b[1;32m    124\u001b[0m         \u001b[0mconn\u001b[0m\u001b[0;34m.\u001b[0m\u001b[0mcursor_factory\u001b[0m \u001b[0;34m=\u001b[0m \u001b[0mcursor_factory\u001b[0m\u001b[0;34m\u001b[0m\u001b[0;34m\u001b[0m\u001b[0m\n",
            "\u001b[0;31mOperationalError\u001b[0m: could not connect to server: Connection timed out\n\tIs the server running on host \"18.224.151.110\" and accepting\n\tTCP/IP connections on port 5432?\n"
          ]
        }
      ],
      "source": [
        "conn = db.connect(\n",
        "    host=\"18.224.151.110\",\n",
        "    database=\"HMDC493_2023_1_Enem\",\n",
        "    user=\"2122120012_Gustavo\",\n",
        "    password=\"2122120012_Gustavo\"\n",
        ")\n",
        "print(conn)"
      ]
    },
    {
      "cell_type": "code",
      "execution_count": null,
      "metadata": {
        "colab": {
          "background_save": true
        },
        "id": "f7_kn6lHFZ1O"
      },
      "outputs": [],
      "source": [
        "class Config:\n",
        "  def __init__(self):\n",
        "    self.config= { \"postgresC\":{\n",
        "    \"host\":\"18.224.151.110\",\n",
        "    \"database\":\"HMDC493_2023_1_Enem\",\n",
        "    \"user\":\"2122120012_Gustavo\",\n",
        "    \"password\":\"2122120012_Gustavo\"\n",
        "    }}"
      ]
    },
    {
      "cell_type": "code",
      "execution_count": null,
      "metadata": {
        "id": "jER9iXRu4_vR"
      },
      "outputs": [],
      "source": [
        "cur = conn.cursor()\n",
        "cur.execute(\"ROLLBACK\")\n",
        "conn.commit()"
      ]
    },
    {
      "cell_type": "code",
      "execution_count": null,
      "metadata": {
        "id": "sUcI3Ng-9iRs"
      },
      "outputs": [],
      "source": [
        "acess ='''\n",
        "GRANT ALL ON SCHEMA IF EXISTS AMENDOIM TO \"2122120012_Gustavo\";\n",
        "GRANT ALL PRIVILEGES ON ALL TABLES IN SCHEMA testes to \n",
        "  2122120006_Luis\n",
        "  2122120002_Lucas\n",
        "  2122120013_Arthur\n",
        "  2212120022_Lucas\n",
        "  2212120027_Luca;\n",
        "'''"
      ]
    },
    {
      "cell_type": "code",
      "execution_count": null,
      "metadata": {
        "id": "XetkQ6yt4WpE"
      },
      "outputs": [],
      "source": [
        "DROPS = '''\n",
        "  DROP TABLE IF EXISTS DADOS_ENEM_DF.aluno_notas;\n",
        "  DROP TABLE IF EXISTS DADOS_ENEM_DF.cor_raca;\n",
        "  DROP TABLE IF EXISTS DADOS_ENEM_DF.faixa_etaria;\n",
        "  DROP TABLE IF EXISTS DADOS_ENEM_DF.municipio_esc;\n",
        "  DROP TABLE IF EXISTS DADOS_ENEM_DF.municipio_prova;\n",
        "  DROP TABLE IF EXISTS DADOS_ENEM_DF.uf_esc;\n",
        "  DROP TABLE IF EXISTS DADOS_ENEM_DF.uf_prova;\n",
        "  DROP TABLE IF EXISTS DADOS_ENEM_DF.candidatos;\n",
        "  '''\n",
        "cur.execute(DROPS)"
      ]
    },
    {
      "cell_type": "code",
      "execution_count": null,
      "metadata": {
        "id": "ERPMYxy066o7"
      },
      "outputs": [],
      "source": [
        "CR_ESCHEMA ='''DROP SCHEMA IF EXISTS DADOS_ENEM_DF;'''\n",
        "cur.execute(CR_ESCHEMA)\n",
        "conn.commit()"
      ]
    },
    {
      "cell_type": "code",
      "execution_count": null,
      "metadata": {
        "id": "llr2iIJP87mg"
      },
      "outputs": [],
      "source": [
        "c = '''\n",
        "  CREATE SCHEMA DADOS_ENEM_DF;'''\n",
        "cur.execute(c)"
      ]
    },
    {
      "cell_type": "code",
      "execution_count": null,
      "metadata": {
        "id": "IUMxJrlF6Gs9"
      },
      "outputs": [],
      "source": [
        "cod = '''\n",
        "  DROP TABLE IF EXISTS DADOS_ENEM_DF.aluno_notas;\n",
        "  DROP TABLE IF EXISTS DADOS_ENEM_DF.cor_raca;\n",
        "  DROP TABLE IF EXISTS DADOS_ENEM_DF.faixa_etaria;\n",
        "  DROP TABLE IF EXISTS DADOS_ENEM_DF.municipio_esc;\n",
        "  DROP TABLE IF EXISTS DADOS_ENEM_DF.municipio_prova;\n",
        "  DROP TABLE IF EXISTS DADOS_ENEM_DF.uf_esc;\n",
        "  DROP TABLE IF EXISTS DADOS_ENEM_DF.uf_prova;\n",
        "  DROP TABLE IF EXISTS DADOS_ENEM_DF.candidatos;\n",
        "\n",
        "  DROP SCHEMA IF EXISTS DADOS_ENEM_DF;\n",
        "  CREATE SCHEMA DADOS_ENEM_DF;\n",
        "\n",
        "  CREATE TABLE IF NOT EXISTS DADOS_ENEM_DF.aluno_notas (\n",
        "    nu_inscricao int4 NOT NULL,\n",
        "    nu_nota_cn int4 NULL,\n",
        "    nu_nota_ch int4 NULL,\n",
        "    nu_nota_lc int4 NULL,\n",
        "    nu_nota_mt int4 NULL,\n",
        "    nu_nota_redacao int4 NULL,\n",
        "    CONSTRAINT aluno_notas_pkey PRIMARY KEY (nu_inscricao)\n",
        "  );\n",
        "\n",
        "  CREATE TABLE IF NOT EXISTS DADOS_ENEM_DF.cor_raca (\n",
        "\t  tp_cor_raca int4 NULL\n",
        "  );\n",
        "\n",
        "  CREATE TABLE IF NOT EXISTS DADOS_ENEM_DF.faixa_etaria (\n",
        "\t  tp_faixa_etaria int4 NULL\n",
        "  );\n",
        "\n",
        "  CREATE TABLE IF NOT EXISTS DADOS_ENEM_DF.municipio_esc (\n",
        "\t  co_municipio_esc int4 NOT NULL,\n",
        "\t  no_municipio_esc varchar(150) NOT NULL,\n",
        "\t  CONSTRAINT municipio_esc_pkey PRIMARY KEY (co_municipio_esc)\n",
        "  );\n",
        "\n",
        "  CREATE TABLE IF NOT EXISTS DADOS_ENEM_DF.municipio_prova (\n",
        "\t  co_municipio_prova int4 NOT NULL,\n",
        "\t  no_municipio_prova varchar(150) NOT NULL,\n",
        "\t  CONSTRAINT municipio_prova_pkey PRIMARY KEY (co_municipio_prova)\n",
        "  );\n",
        "\n",
        "  CREATE TABLE IF NOT EXISTS DADOS_ENEM_DF.uf_esc (\n",
        "\t  co_uf_esc int4 NULL,\n",
        "\t  st_uf_esc varchar(2) NULL,\n",
        "\t  sg_uf_esc varchar(50) NULL\n",
        "  );\n",
        "\n",
        "  CREATE TABLE IF NOT EXISTS DADOS_ENEM_DF.uf_prova (\n",
        "\t  co_uf_prova int4 NOT NULL,\n",
        "\t  st_uf_prova varchar(2) NOT NULL,\n",
        "\t  CONSTRAINT uf_prova_pkey PRIMARY KEY (co_uf_prova)\n",
        "  );\n",
        "\n",
        "  CREATE TABLE IF NOT EXISTS DADOS_ENEM_DF.candidatos (\n",
        "\t  nu_inscricao int8 NOT NULL,\n",
        "\t  nu_ano int4 NOT NULL,\n",
        "\t  tp_sexo varchar(1) NOT NULL,\n",
        "\t  tp_estado_civil int4 NULL,\n",
        "\t  tp_nacionalidade int4 NULL,\n",
        "\t  tp_st_conclusao int4 NULL,\n",
        "\t  tp_ano_concluiu int4 NULL,\n",
        "\t  tp_escola int4 NULL,\n",
        "\t  tp_ensino int4 NULL,\n",
        "\t  in_treineiro int4 NULL,\n",
        "\t  cod_faixa_etaria int4 NULL,\n",
        "\t  cod_cor_raca int4 NULL,\n",
        "\t  cod_uf_esc int4 NULL,\n",
        "\t  cod_municipio_esc int4 NULL,\n",
        "\t  cod_uf_prova int4 NULL,\n",
        "\t  cod_municipio_prova int4 NULL,\n",
        "\t  CONSTRAINT candidatos_pkey PRIMARY KEY (nu_inscricao)\n",
        ");\n",
        "  '''\n",
        "cur.execute(cod)\n",
        "conn.commit()\n",
        "conn.close()"
      ]
    },
    {
      "cell_type": "code",
      "execution_count": null,
      "metadata": {
        "colab": {
          "base_uri": "https://localhost:8080/"
        },
        "id": "WtYQn_x9xxRn",
        "outputId": "08f98221-f468-411c-d417-28b0fb0786f8"
      },
      "outputs": [
        {
          "name": "stdout",
          "output_type": "stream",
          "text": [
            "Drive already mounted at /content/drive; to attempt to forcibly remount, call drive.mount(\"/content/drive\", force_remount=True).\n"
          ]
        }
      ],
      "source": [
        "from google.colab import drive\n",
        "drive.mount('/content/drive')\n",
        "Enem_dados = pd.read_csv('/content/drive/MyDrive/MICRODADOS_ENEM_2021.csv', sep = ';', encoding = 'Windows-1252')"
      ]
    },
    {
      "cell_type": "code",
      "execution_count": null,
      "metadata": {
        "id": "MTgTy8Q8v8Br"
      },
      "outputs": [],
      "source": [
        "colunas_desejadas = ['NU_INSCRICAO', 'NU_ANO', 'TP_SEXO', 'TP_ESTADO_CIVIL', 'TP_NACIONALIDADE', 'TP_ST_CONCLUSAO', 'TP_ANO_CONCLUIU', 'TP_ESCOLA', 'TP_ENSINO', 'IN_TREINEIRO']\n",
        "prova = Enem_dados.loc[:, colunas_desejadas]\n",
        "prova.head()"
      ]
    },
    {
      "cell_type": "code",
      "execution_count": null,
      "metadata": {
        "id": "KQdUvaudDNb4"
      },
      "outputs": [],
      "source": [
        "Enem_dadosf = Enem_dados.drop(['Q001', 'Q002', 'Q003', 'Q004', 'Q005', 'Q006', 'Q007', 'Q008', 'Q009', 'Q010', 'Q011', 'Q012', 'Q013', 'Q014', 'Q015', 'Q016', 'Q017', 'Q018', 'Q019', 'Q020', 'Q021', 'Q022', 'Q023', 'Q024', 'Q025','TX_GABARITO_CH',\t'TX_GABARITO_LC',\t'TX_GABARITO_MT',\t'TP_STATUS_REDACAO',\t'NU_NOTA_COMP1',\t'NU_NOTA_COMP2',\t'NU_NOTA_COMP3',\t'NU_NOTA_COMP4',\t'NU_NOTA_COMP5', 'TX_RESPOSTAS_CN',\t'TX_RESPOSTAS_CH',\t'TX_RESPOSTAS_LC',\t'TX_RESPOSTAS_MT',\t'TP_LINGUA',\t'TX_GABARITO_CN', 'CO_PROVA_CN',\t'CO_PROVA_CH',\t'CO_PROVA_LC',\t'CO_PROVA_MT', 'TP_PRESENCA_CN',\t'TP_PRESENCA_CH',\t'TP_PRESENCA_LC',\t'TP_PRESENCA_MT'], axis=1)\n",
        "Enem_dadosf.to_csv('Base_Limpa.csv')\n",
        "colunas_desejadas = ['NU_INSCRICAO', 'NU_ANO', 'TP_SEXO', 'TP_ESTADO_CIVIL', 'TP_NACIONALIDADE', 'TP_ST_CONCLUSAO', 'TP_ANO_CONCLUIU', 'TP_ESCOLA', 'TP_ENSINO', 'IN_TREINEIRO']\n",
        "TCandidatos = Enem_dadosf.loc[:, colunas_desejadas]\n",
        "TCandidatos.head()"
      ]
    },
    {
      "cell_type": "code",
      "execution_count": null,
      "metadata": {
        "colab": {
          "base_uri": "https://localhost:8080/",
          "height": 235
        },
        "id": "giaCEQCWC_oS",
        "outputId": "0daf210f-7b02-42dc-e0cf-b33580436172"
      },
      "outputs": [
        {
          "ename": "NameError",
          "evalue": "ignored",
          "output_type": "error",
          "traceback": [
            "\u001b[0;31m---------------------------------------------------------------------------\u001b[0m",
            "\u001b[0;31mNameError\u001b[0m                                 Traceback (most recent call last)",
            "\u001b[0;32m<ipython-input-1-2a2980e573dd>\u001b[0m in \u001b[0;36m<cell line: 4>\u001b[0;34m()\u001b[0m\n\u001b[1;32m      2\u001b[0m \u001b[0;32mfrom\u001b[0m \u001b[0mast\u001b[0m \u001b[0;32mimport\u001b[0m \u001b[0mmain\u001b[0m\u001b[0;34m\u001b[0m\u001b[0;34m\u001b[0m\u001b[0m\n\u001b[1;32m      3\u001b[0m \u001b[0;34m\u001b[0m\u001b[0m\n\u001b[0;32m----> 4\u001b[0;31m \u001b[0;32mclass\u001b[0m \u001b[0mConnection\u001b[0m\u001b[0;34m(\u001b[0m\u001b[0mConfig\u001b[0m\u001b[0;34m)\u001b[0m\u001b[0;34m:\u001b[0m\u001b[0;34m\u001b[0m\u001b[0;34m\u001b[0m\u001b[0m\n\u001b[0m\u001b[1;32m      5\u001b[0m     \u001b[0;32mdef\u001b[0m \u001b[0m__init__\u001b[0m\u001b[0;34m(\u001b[0m\u001b[0mself\u001b[0m\u001b[0;34m)\u001b[0m\u001b[0;34m:\u001b[0m\u001b[0;34m\u001b[0m\u001b[0;34m\u001b[0m\u001b[0m\n\u001b[1;32m      6\u001b[0m         \u001b[0mConfig\u001b[0m\u001b[0;34m.\u001b[0m\u001b[0m__init__\u001b[0m\u001b[0;34m(\u001b[0m\u001b[0mself\u001b[0m\u001b[0;34m)\u001b[0m\u001b[0;34m\u001b[0m\u001b[0;34m\u001b[0m\u001b[0m\n",
            "\u001b[0;31mNameError\u001b[0m: name 'Config' is not defined"
          ]
        }
      ],
      "source": [
        "import csv\n",
        "from ast import main\n",
        "\n",
        "class Connection(Config):\n",
        "    def __init__(self):\n",
        "        Config.__init__(self)\n",
        "        try:\n",
        "            self.conn = db.connect(**self.config[\"postgresC\"])\n",
        "            self.cur = self.conn.cursor()\n",
        "        except Exception as e:\n",
        "            print(\"erro na conexão\", e)\n",
        "            exit(1)\n",
        "\n",
        "    def __enter__(self):\n",
        "        return self\n",
        "\n",
        "    def __exit__(self, exc_type, exc_val, exc_tb):\n",
        "        self.commit()\n",
        "        self.connection.close()\n",
        "\n",
        "    @property\n",
        "    def Connection(self):\n",
        "        return self.conn\n",
        "\n",
        "    @property\n",
        "    def cusor(self):\n",
        "        return self.cur\n",
        "\n",
        "    def commit(self):\n",
        "        self.connection.commit()\n",
        "\n",
        "    def fetchall(self):\n",
        "        return self.cursor.fetchall()\n",
        "\n",
        "    def execute(self, sql, params=None):\n",
        "        self.cursor.execute(sql, params or ())\n",
        "\n",
        "    def query(self, sql, params=None):\n",
        "        self.cursor.execute(sql, params or ())\n",
        "        return self.fetchall()\n",
        "\n",
        "\n",
        "class candidatos(Connection):\n",
        "    def __init__(self):\n",
        "        Connection.__init__(self)\n",
        "\n",
        "    def insert(self, *args):\n",
        "        try:\n",
        "            sql = \"INSERT INTO candidatos (nu_inscricao, nu_ano, tp_sexo, tp_estado_civil, tp_nacionalidade, tp_st_conclusao, tp_ano_concluiu, tp_escola, tp_ensino, in_treineiro) VALUES (%s, %s, %s, %s, %s, %s, %s, %s, %s, %s)\" \n",
        "            self.execute(sql, args)\n",
        "            self.commit()\n",
        "        except Exception as e:\n",
        "            print(\"erro ao inserir\", e)\n",
        "    \n",
        "    def insert_csv(self, filename):\n",
        "        try:\n",
        "            with open(filename, 'r', encoding='Windows-1252') as file:\n",
        "                data = csv.DictReader(file)\n",
        "                for row in data:\n",
        "                    self.insert(\n",
        "                        row['NU_INSCRICAO'],\n",
        "                        row['NU_ANO'],\n",
        "                        row['TP_SEXO'],\n",
        "                        row['TP_ESTADO_CIVIL'],\n",
        "                        row['TP_NACIONALIDADE'],\n",
        "                        row['TP_ST_CONCLUSAO'],\n",
        "                        row['TP_ANO_CONCLUIU'],\n",
        "                        row['TP_ESCOLA'],\n",
        "                        row['TP_ENSINO'],\n",
        "                        row['IN_TREINEIRO']\n",
        "                    )\n",
        "        except Exception as e:\n",
        "            print(\"erro ao inserir\", e)\n",
        "          \n",
        "\n",
        "if \"__NU_INSCRICAO__\" == \"__main__\":\n",
        "    candidatos = candidatos()\n",
        "    candidatos.insert_csv(\"/content/drive/MyDrive/MICRODADOS_ENEM_2021.csv\")\n",
        "\n",
        "insertcandidatosinsert = \"INSERT INTO candidatos (nu_inscricao, nu_ano, tp_sexo, tp_estado_civil, tp_nacionalidade, tp_st_conclusao, tp_ano_concluiu, tp_escola, tp_ensino, in_treineiro) VALUES (%s, %s, %s, %s, %s, %s, %s, %s, %s, %s)\"\n",
        "cur.executemany(insertcandidatosinsert, colunas_desejadas)\n",
        "conn.commit()\n"
      ]
    },
    {
      "cell_type": "code",
      "execution_count": null,
      "metadata": {
        "colab": {
          "base_uri": "https://localhost:8080/",
          "height": 217
        },
        "id": "HCGFn5rfXEa0",
        "outputId": "118c9d8d-05f2-4436-b7eb-509220de1f14"
      },
      "outputs": [
        {
          "ename": "InterfaceError",
          "evalue": "ignored",
          "output_type": "error",
          "traceback": [
            "\u001b[0;31m---------------------------------------------------------------------------\u001b[0m",
            "\u001b[0;31mInterfaceError\u001b[0m                            Traceback (most recent call last)",
            "\u001b[0;32m<ipython-input-174-64fc98f21a17>\u001b[0m in \u001b[0;36m<cell line: 2>\u001b[0;34m()\u001b[0m\n\u001b[1;32m      1\u001b[0m \u001b[0minsertcandidatosinsert\u001b[0m \u001b[0;34m=\u001b[0m \u001b[0;34m\"INSERT INTO candidatos (nu_inscricao, nu_ano, tp_sexo, tp_estado_civil, tp_nacionalidade, tp_st_conclusao, tp_ano_concluiu, tp_escola, tp_ensino, in_treineiro) VALUES (%s, %s, %s, %s, %s, %s, %s, %s, %s, %s)\"\u001b[0m\u001b[0;34m\u001b[0m\u001b[0;34m\u001b[0m\u001b[0m\n\u001b[0;32m----> 2\u001b[0;31m \u001b[0mcur\u001b[0m\u001b[0;34m.\u001b[0m\u001b[0mexecutemany\u001b[0m\u001b[0;34m(\u001b[0m\u001b[0minsertcandidatosinsert\u001b[0m\u001b[0;34m,\u001b[0m \u001b[0mcolunas_desejadas\u001b[0m\u001b[0;34m)\u001b[0m\u001b[0;34m\u001b[0m\u001b[0;34m\u001b[0m\u001b[0m\n\u001b[0m\u001b[1;32m      3\u001b[0m \u001b[0mconn\u001b[0m\u001b[0;34m.\u001b[0m\u001b[0mcommit\u001b[0m\u001b[0;34m(\u001b[0m\u001b[0;34m)\u001b[0m\u001b[0;34m\u001b[0m\u001b[0;34m\u001b[0m\u001b[0m\n",
            "\u001b[0;31mInterfaceError\u001b[0m: cursor already closed"
          ]
        }
      ],
      "source": [
        "insertcandidatosinsert = \"INSERT INTO candidatos (nu_inscricao, nu_ano, tp_sexo, tp_estado_civil, tp_nacionalidade, tp_st_conclusao, tp_ano_concluiu, tp_escola, tp_ensino, in_treineiro) VALUES (%s, %s, %s, %s, %s, %s, %s, %s, %s, %s)\"\n",
        "cur.executemany(insertcandidatosinsert, colunas_desejadas)\n",
        "conn.commit()"
      ]
    },
    {
      "cell_type": "code",
      "execution_count": null,
      "metadata": {
        "colab": {
          "base_uri": "https://localhost:8080/",
          "height": 235
        },
        "id": "y9URb4FzGhHA",
        "outputId": "d661a18f-b7bf-4357-bf76-9f323905f444"
      },
      "outputs": [
        {
          "ename": "NameError",
          "evalue": "ignored",
          "output_type": "error",
          "traceback": [
            "\u001b[0;31m---------------------------------------------------------------------------\u001b[0m",
            "\u001b[0;31mNameError\u001b[0m                                 Traceback (most recent call last)",
            "\u001b[0;32m<ipython-input-170-5ea1fded8573>\u001b[0m in \u001b[0;36m<cell line: 5>\u001b[0;34m()\u001b[0m\n\u001b[1;32m      3\u001b[0m \u001b[0;31m# Define the data to be inserted as a list of tuples\u001b[0m\u001b[0;34m\u001b[0m\u001b[0;34m\u001b[0m\u001b[0m\n\u001b[1;32m      4\u001b[0m colunas_desejadas = [\n\u001b[0;32m----> 5\u001b[0;31m     \u001b[0;34m(\u001b[0m\u001b[0mnu_inscricao1\u001b[0m\u001b[0;34m,\u001b[0m \u001b[0mnu_ano1\u001b[0m\u001b[0;34m,\u001b[0m \u001b[0mtp_sexo1\u001b[0m\u001b[0;34m,\u001b[0m \u001b[0mtp_estado_civil1\u001b[0m\u001b[0;34m,\u001b[0m \u001b[0mtp_nacionalidade1\u001b[0m\u001b[0;34m,\u001b[0m \u001b[0mtp_st_conclusao1\u001b[0m\u001b[0;34m,\u001b[0m \u001b[0mtp_ano_concluiu1\u001b[0m\u001b[0;34m,\u001b[0m \u001b[0mtp_escola1\u001b[0m\u001b[0;34m,\u001b[0m \u001b[0mtp_ensino1\u001b[0m\u001b[0;34m,\u001b[0m \u001b[0min_treineiro1\u001b[0m\u001b[0;34m)\u001b[0m\u001b[0;34m,\u001b[0m\u001b[0;34m\u001b[0m\u001b[0;34m\u001b[0m\u001b[0m\n\u001b[0m\u001b[1;32m      6\u001b[0m     \u001b[0;34m(\u001b[0m\u001b[0mnu_inscricao2\u001b[0m\u001b[0;34m,\u001b[0m \u001b[0mnu_ano2\u001b[0m\u001b[0;34m,\u001b[0m \u001b[0mtp_sexo2\u001b[0m\u001b[0;34m,\u001b[0m \u001b[0mtp_estado_civil2\u001b[0m\u001b[0;34m,\u001b[0m \u001b[0mtp_nacionalidade2\u001b[0m\u001b[0;34m,\u001b[0m \u001b[0mtp_st_conclusao2\u001b[0m\u001b[0;34m,\u001b[0m \u001b[0mtp_ano_concluiu2\u001b[0m\u001b[0;34m,\u001b[0m \u001b[0mtp_escola2\u001b[0m\u001b[0;34m,\u001b[0m \u001b[0mtp_ensino2\u001b[0m\u001b[0;34m,\u001b[0m \u001b[0min_treineiro2\u001b[0m\u001b[0;34m)\u001b[0m\u001b[0;34m,\u001b[0m\u001b[0;34m\u001b[0m\u001b[0;34m\u001b[0m\u001b[0m\n\u001b[1;32m      7\u001b[0m     \u001b[0;34m...\u001b[0m\u001b[0;34m\u001b[0m\u001b[0;34m\u001b[0m\u001b[0m\n",
            "\u001b[0;31mNameError\u001b[0m: name 'nu_inscricao1' is not defined"
          ]
        }
      ],
      "source": []
    },
    {
      "cell_type": "code",
      "execution_count": null,
      "metadata": {
        "colab": {
          "base_uri": "https://localhost:8080/",
          "height": 235
        },
        "id": "PvcYVPXi-6jG",
        "outputId": "fbb52f99-a791-4b32-9f9c-061965fe35a0"
      },
      "outputs": [
        {
          "ename": "InterfaceError",
          "evalue": "ignored",
          "output_type": "error",
          "traceback": [
            "\u001b[0;31m---------------------------------------------------------------------------\u001b[0m",
            "\u001b[0;31mInterfaceError\u001b[0m                            Traceback (most recent call last)",
            "\u001b[0;32m<ipython-input-173-f1f877ddb722>\u001b[0m in \u001b[0;36m<cell line: 2>\u001b[0;34m()\u001b[0m\n\u001b[1;32m      1\u001b[0m \u001b[0minsertcandidatosinsert2\u001b[0m \u001b[0;34m=\u001b[0m \u001b[0;34m\"INSERT INTO candidatos (nu_inscricao, nu_ano, tp_sexo, tp_estado_civil, tp_nacionalidade, tp_st_conclusao, tp_ano_concluiu, tp_escola, tp_ensino, in_treineiro, cod_faixa_etaria, cod_cor_raca, cod_uf_esc, cod_municipio_esc, cod_uf_prova, cod_municipio_prova) VALUES (%s, %s, %s, %s, %s, %s, %s, %s, %s, %s, %s, %s, %s, %s, %s, %s)\"\u001b[0m\u001b[0;34m\u001b[0m\u001b[0;34m\u001b[0m\u001b[0m\n\u001b[0;32m----> 2\u001b[0;31m \u001b[0mcur\u001b[0m\u001b[0;34m.\u001b[0m\u001b[0mexecutemany\u001b[0m\u001b[0;34m(\u001b[0m\u001b[0minsertcandidatosinsert2\u001b[0m\u001b[0;34m,\u001b[0m \u001b[0mTCandidatos\u001b[0m\u001b[0;34m)\u001b[0m\u001b[0;34m\u001b[0m\u001b[0;34m\u001b[0m\u001b[0m\n\u001b[0m\u001b[1;32m      3\u001b[0m \u001b[0mconn\u001b[0m\u001b[0;34m.\u001b[0m\u001b[0mcommit\u001b[0m\u001b[0;34m(\u001b[0m\u001b[0;34m)\u001b[0m\u001b[0;34m\u001b[0m\u001b[0;34m\u001b[0m\u001b[0m\n",
            "\u001b[0;31mInterfaceError\u001b[0m: cursor already closed"
          ]
        }
      ],
      "source": [
        "insertcandidatosinsert2 = \"INSERT INTO candidatos (nu_inscricao, nu_ano, tp_sexo, tp_estado_civil, tp_nacionalidade, tp_st_conclusao, tp_ano_concluiu, tp_escola, tp_ensino, in_treineiro, cod_faixa_etaria, cod_cor_raca, cod_uf_esc, cod_municipio_esc, cod_uf_prova, cod_municipio_prova) VALUES (%s, %s, %s, %s, %s, %s, %s, %s, %s, %s, %s, %s, %s, %s, %s, %s)\"\n",
        "cur.executemany(insertcandidatosinsert2, TCandidatos)\n",
        "conn.commit()"
      ]
    },
    {
      "cell_type": "code",
      "execution_count": null,
      "metadata": {
        "id": "_Ers7EaKzfSD"
      },
      "outputs": [],
      "source": [
        "colunas_desejadas = ['NU_INSCRICAO', 'NU_ANO', 'TP_SEXO', 'TP_ESTADO_CIVIL', 'TP_NACIONALIDADE', 'TP_ST_CONCLUSAO', 'TP_ANO_CONCLUIU', 'TP_ESCOLA', 'TP_ENSINO', 'IN_TREINEIRO']\n",
        "\n",
        "# Comando SQL INSERT\n",
        "insert = f\"INSERT INTO candidatos ({', '.join(colunas_desejadas)}) VALUES ({', '.join(['%s'] * len(colunas_desejadas))})\"\n"
      ]
    }
  ],
  "metadata": {
    "colab": {
      "provenance": [],
      "authorship_tag": "ABX9TyNiki2T8igpOftChQoAzIn5",
      "include_colab_link": true
    },
    "kernelspec": {
      "display_name": "Python 3",
      "name": "python3"
    },
    "language_info": {
      "name": "python"
    }
  },
  "nbformat": 4,
  "nbformat_minor": 0
}